{
 "cells": [
  {
   "cell_type": "code",
   "execution_count": 1,
   "metadata": {},
   "outputs": [],
   "source": [
    "## 2 ms\n",
    "nmodelrootdir = '/group/jug/ashesh/training/'\n",
    "nmodel_dict = {\n",
    "'2ms':{\n",
    "    'Ch0':f'{nmodelrootdir}/noise_model/2406/0',\n",
    "\n",
    "    'Ch1':f'{nmodelrootdir}/noise_model/2406/10',\n",
    "\n",
    "    'Ch2':f'{nmodelrootdir}/noise_model/2406/11',\n",
    "\n",
    "    'Ch3':f'{nmodelrootdir}/noise_model/2406/1',\n",
    "    },\n",
    "'3ms':{\n",
    "\n",
    "    'Ch0':f'{nmodelrootdir}/noise_model/2406/2',\n",
    "\n",
    "    'Ch1':f'{nmodelrootdir}/noise_model/2406/3',\n",
    "\n",
    "    'Ch2':f'{nmodelrootdir}/noise_model/2406/4',\n",
    "\n",
    "    'Ch3':f'{nmodelrootdir}/noise_model/2406/5',\n",
    "},\n",
    "## 5 ms\n",
    "'5ms':{\n",
    "\n",
    "    'Ch0':f'{nmodelrootdir}/noise_model/2406/6',\n",
    "\n",
    "    'Ch1':f'{nmodelrootdir}/noise_model/2406/7',\n",
    "\n",
    "    'Ch2':f'{nmodelrootdir}/noise_model/2406/8',\n",
    "\n",
    "    'Ch3':f'{nmodelrootdir}/noise_model/2406/9',\n",
    "    },\n",
    "'20ms':{\n",
    "\n",
    "    'Ch0':f'{nmodelrootdir}/noise_model/2406/12',\n",
    "\n",
    "    'Ch1':f'{nmodelrootdir}/noise_model/2406/13',\n",
    "\n",
    "    'Ch2':f'{nmodelrootdir}/noise_model/2406/14',\n",
    "\n",
    "    'Ch3':f'{nmodelrootdir}/noise_model/2406/15',\n",
    "},\n",
    "'500ms':{\n",
    "\n",
    "    'Ch0':f'{nmodelrootdir}/noise_model/2406/16',\n",
    "\n",
    "    'Ch1':f'{nmodelrootdir}/noise_model/2406/17',\n",
    "\n",
    "    'Ch2':f'{nmodelrootdir}/noise_model/2406/18',\n",
    "\n",
    "    'Ch3':f'{nmodelrootdir}/noise_model/2406/19',\n",
    "}\n",
    "}"
   ]
  },
  {
   "cell_type": "code",
   "execution_count": 7,
   "metadata": {},
   "outputs": [],
   "source": [
    "def find_noise_model(direc):\n",
    "    gmm_models = [x for x in os.listdir(direc) if x.startswith('GMMNoiseModel')]\n",
    "    assert len(gmm_models) == 1, f'Found {len(gmm_models)} GMM models in {direc}'\n",
    "    return os.path.join(direc, gmm_models[0])"
   ]
  },
  {
   "cell_type": "code",
   "execution_count": 10,
   "metadata": {},
   "outputs": [
    {
     "name": "stdout",
     "output_type": "stream",
     "text": [
      "GMMNoiseModel_nikola_denoising_input-uSplit_20240531_2msSNR_channel0__6_4_Clip0.0-1.0_Sig0.125_UpNone_Norm0_bootstrap.npz /group/jug/public_html/msplit/ht_lif24/noise_models/2ms/noise_model_Ch0.npz\n",
      "GMMNoiseModel_nikola_denoising_input-uSplit_20240531_2msSNR_channel1__6_4_Clip0.0-1.0_Sig0.125_UpNone_Norm0_bootstrap.npz /group/jug/public_html/msplit/ht_lif24/noise_models/2ms/noise_model_Ch1.npz\n",
      "GMMNoiseModel_nikola_denoising_input-uSplit_20240531_2msSNR_channel2__6_4_Clip0.0-1.0_Sig0.125_UpNone_Norm0_bootstrap.npz /group/jug/public_html/msplit/ht_lif24/noise_models/2ms/noise_model_Ch2.npz\n",
      "GMMNoiseModel_nikola_denoising_input-uSplit_20240531_2msSNR_channel3__6_4_Clip0.0-1.0_Sig0.125_UpNone_Norm0_bootstrap.npz /group/jug/public_html/msplit/ht_lif24/noise_models/2ms/noise_model_Ch3.npz\n",
      "GMMNoiseModel_nikola_denoising_input-uSplit_20240531_3msSNR_channel0__6_4_Clip0.0-1.0_Sig0.125_UpNone_Norm0_bootstrap.npz /group/jug/public_html/msplit/ht_lif24/noise_models/3ms/noise_model_Ch0.npz\n",
      "GMMNoiseModel_nikola_denoising_input-uSplit_20240531_3msSNR_channel1__6_4_Clip0.0-1.0_Sig0.125_UpNone_Norm0_bootstrap.npz /group/jug/public_html/msplit/ht_lif24/noise_models/3ms/noise_model_Ch1.npz\n",
      "GMMNoiseModel_nikola_denoising_input-uSplit_20240531_3msSNR_channel2__6_4_Clip0.0-1.0_Sig0.125_UpNone_Norm0_bootstrap.npz /group/jug/public_html/msplit/ht_lif24/noise_models/3ms/noise_model_Ch2.npz\n",
      "GMMNoiseModel_nikola_denoising_input-uSplit_20240531_3msSNR_channel3__6_4_Clip0.0-1.0_Sig0.125_UpNone_Norm0_bootstrap.npz /group/jug/public_html/msplit/ht_lif24/noise_models/3ms/noise_model_Ch3.npz\n",
      "GMMNoiseModel_nikola_denoising_input-uSplit_20240531_5msSNR_channel0__6_4_Clip0.0-1.0_Sig0.125_UpNone_Norm0_bootstrap.npz /group/jug/public_html/msplit/ht_lif24/noise_models/5ms/noise_model_Ch0.npz\n",
      "GMMNoiseModel_nikola_denoising_input-uSplit_20240531_5msSNR_channel1__6_4_Clip0.0-1.0_Sig0.125_UpNone_Norm0_bootstrap.npz /group/jug/public_html/msplit/ht_lif24/noise_models/5ms/noise_model_Ch1.npz\n",
      "GMMNoiseModel_nikola_denoising_input-uSplit_20240531_5msSNR_channel2__6_4_Clip0.0-1.0_Sig0.125_UpNone_Norm0_bootstrap.npz /group/jug/public_html/msplit/ht_lif24/noise_models/5ms/noise_model_Ch2.npz\n",
      "GMMNoiseModel_nikola_denoising_input-uSplit_20240531_5msSNR_channel3__6_4_Clip0.0-1.0_Sig0.125_UpNone_Norm0_bootstrap.npz /group/jug/public_html/msplit/ht_lif24/noise_models/5ms/noise_model_Ch3.npz\n",
      "GMMNoiseModel_nikola_denoising_input-uSplit_20240531_20msSNR_channel0__6_4_Clip0.0-1.0_Sig0.125_UpNone_Norm0_bootstrap.npz /group/jug/public_html/msplit/ht_lif24/noise_models/20ms/noise_model_Ch0.npz\n",
      "GMMNoiseModel_nikola_denoising_input-uSplit_20240531_20msSNR_channel1__6_4_Clip0.0-1.0_Sig0.125_UpNone_Norm0_bootstrap.npz /group/jug/public_html/msplit/ht_lif24/noise_models/20ms/noise_model_Ch1.npz\n",
      "GMMNoiseModel_nikola_denoising_input-uSplit_20240531_20msSNR_channel2__6_4_Clip0.0-1.0_Sig0.125_UpNone_Norm0_bootstrap.npz /group/jug/public_html/msplit/ht_lif24/noise_models/20ms/noise_model_Ch2.npz\n",
      "GMMNoiseModel_nikola_denoising_input-uSplit_20240531_20msSNR_channel3__6_4_Clip0.0-1.0_Sig0.125_UpNone_Norm0_bootstrap.npz /group/jug/public_html/msplit/ht_lif24/noise_models/20ms/noise_model_Ch3.npz\n",
      "GMMNoiseModel_nikola_denoising_input-uSplit_20240531_500msSNR_channel0__6_4_Clip0.0-1.0_Sig0.125_UpNone_Norm0_bootstrap.npz /group/jug/public_html/msplit/ht_lif24/noise_models/500ms/noise_model_Ch0.npz\n",
      "GMMNoiseModel_nikola_denoising_input-uSplit_20240531_500msSNR_channel1__6_4_Clip0.0-1.0_Sig0.125_UpNone_Norm0_bootstrap.npz /group/jug/public_html/msplit/ht_lif24/noise_models/500ms/noise_model_Ch1.npz\n",
      "GMMNoiseModel_nikola_denoising_input-uSplit_20240531_500msSNR_channel2__6_4_Clip0.0-1.0_Sig0.125_UpNone_Norm0_bootstrap.npz /group/jug/public_html/msplit/ht_lif24/noise_models/500ms/noise_model_Ch2.npz\n",
      "GMMNoiseModel_nikola_denoising_input-uSplit_20240531_500msSNR_channel3__6_4_Clip0.0-1.0_Sig0.125_UpNone_Norm0_bootstrap.npz /group/jug/public_html/msplit/ht_lif24/noise_models/500ms/noise_model_Ch3.npz\n"
     ]
    }
   ],
   "source": [
    "import os\n",
    "os.listdir(nmodel_dict['2ms']['Ch0'])\n",
    "outputdir = '/group/jug/public_html/msplit/ht_lif24/noise_models/'\n",
    "for exposure_duration in ['2ms', '3ms', '5ms', '20ms', '500ms']:\n",
    "    for channel in ['Ch0', 'Ch1', 'Ch2', 'Ch3']:\n",
    "        src_gmm_noise_model = find_noise_model(nmodel_dict[exposure_duration][channel])\n",
    "        dst_path = os.path.join(outputdir, exposure_duration, f'noise_model_{channel}.npz')\n",
    "        print(os.path.basename(src_gmm_noise_model), dst_path)\n",
    "        os.system(f'cp {src_gmm_noise_model} {dst_path}')"
   ]
  },
  {
   "cell_type": "code",
   "execution_count": null,
   "metadata": {},
   "outputs": [],
   "source": []
  }
 ],
 "metadata": {
  "kernelspec": {
   "display_name": "microSplit",
   "language": "python",
   "name": "python3"
  },
  "language_info": {
   "codemirror_mode": {
    "name": "ipython",
    "version": 3
   },
   "file_extension": ".py",
   "mimetype": "text/x-python",
   "name": "python",
   "nbconvert_exporter": "python",
   "pygments_lexer": "ipython3",
   "version": "3.9.21"
  }
 },
 "nbformat": 4,
 "nbformat_minor": 2
}
