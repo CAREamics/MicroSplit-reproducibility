{
 "cells": [
  {
   "cell_type": "markdown",
   "metadata": {},
   "source": [
    "## Code for training the noise model\n",
    "\n",
    "Description of nm theory and why we need it"
   ]
  },
  {
   "cell_type": "markdown",
   "metadata": {},
   "source": [
    "### Important ! \n",
    "\n",
    "This step can be skipped! Only run this notebook if you want to train the noise models from scratch. Pretrained noise models are available "
   ]
  },
  {
   "cell_type": "code",
   "execution_count": null,
   "metadata": {},
   "outputs": [],
   "source": [
    "import os\n",
    "import pooch\n",
    "import matplotlib.pyplot as plt\n",
    "from careamics import CAREamist\n",
    "from careamics.models.lvae.noise_models import GaussianMixtureNoiseModel, create_histogram\n",
    "from careamics.lvae_training.dataset import DataSplitType\n",
    "from careamics.config import GaussianMixtureNMConfig\n",
    "from careamics.config import create_n2v_configuration\n",
    "\n",
    "from microsplit_reproducibility.configs.data.HT_LIF24 import get_data_configs\n",
    "from microsplit_reproducibility.datasets.HT_LIF24 import get_train_val_data\n",
    "from microsplit_reproducibility.utils.utils import plot_probability_distribution\n",
    "\n"
   ]
  },
  {
   "cell_type": "markdown",
   "metadata": {},
   "source": [
    "### Load and prepare data\n",
    "\n",
    "Data preparation, dataset specific or load from function in this repo\n",
    "\n"
   ]
  },
  {
   "cell_type": "code",
   "execution_count": null,
   "metadata": {},
   "outputs": [],
   "source": [
    "DATA = pooch.create(\n",
    "    path=\"./data\",\n",
    "    base_url=\"https://download.fht.org/jug/ht_lif24\",\n",
    "    registry={\"ht_lif24.zip\": None},\n",
    ")"
   ]
  },
  {
   "cell_type": "code",
   "execution_count": null,
   "metadata": {},
   "outputs": [],
   "source": [
    "fp = DATA.fetch(\"ht_lif24.zip\", processor=pooch.Unzip())"
   ]
  },
  {
   "cell_type": "code",
   "execution_count": null,
   "metadata": {},
   "outputs": [],
   "source": [
    "train_data_config, val_data_config, test_data_config = get_data_configs(dset_type=\"20ms\")"
   ]
  },
  {
   "cell_type": "code",
   "execution_count": null,
   "metadata": {},
   "outputs": [],
   "source": [
    "input_data = get_train_val_data(data_config=train_data_config,\n",
    "                                datadir=DATA.path / \"ht_lif24.zip.unzip/ht_lif24\",\n",
    "                                datasplit_type=DataSplitType.Train,# TODO replace with actual local path after downloading\n",
    "                                val_fraction=0.1,\n",
    "                                test_fraction=0.1,)"
   ]
  },
  {
   "cell_type": "code",
   "execution_count": null,
   "metadata": {},
   "outputs": [],
   "source": [
    "# We use a subset of the data for training the noise model\n",
    "train_data = input_data[0:-1:10].squeeze()"
   ]
  },
  {
   "cell_type": "markdown",
   "metadata": {},
   "source": [
    "### Create N2V configuration"
   ]
  },
  {
   "cell_type": "code",
   "execution_count": null,
   "metadata": {},
   "outputs": [],
   "source": [
    "config = create_n2v_configuration(\n",
    "    experiment_name=\"ht_lif24\",\n",
    "    data_type=\"array\",\n",
    "    axes=\"SYXC\",\n",
    "    n_channels=3,\n",
    "    patch_size=(64, 64),\n",
    "    batch_size=64,\n",
    "    num_epochs=1,\n",
    ")\n",
    "\n",
    "print(config)"
   ]
  },
  {
   "cell_type": "markdown",
   "metadata": {},
   "source": [
    "### Train N2V "
   ]
  },
  {
   "cell_type": "code",
   "execution_count": null,
   "metadata": {},
   "outputs": [],
   "source": [
    "# Check if all the noise models are loaded(3 is the number of channels for this dataset)\n",
    "os.path.exists(\"noise_models\") and len(os.listdir(\"noise_models\")) == 3"
   ]
  },
  {
   "cell_type": "code",
   "execution_count": null,
   "metadata": {},
   "outputs": [],
   "source": [
    "if not os.path.exists(\"noise_models\"):\n",
    "    # instantiate a CAREamist\n",
    "    careamist = CAREamist(source=config)\n",
    "\n",
    "    # train\n",
    "    careamist.train(\n",
    "        train_source=train_data,\n",
    "        val_minimum_split=5,\n",
    "    )\n",
    "else:\n",
    "    print(\"Noise model already exists.\")"
   ]
  },
  {
   "cell_type": "code",
   "execution_count": null,
   "metadata": {},
   "outputs": [],
   "source": [
    "predicition = careamist.predict(train_data, tile_size=(256, 256))"
   ]
  },
  {
   "cell_type": "markdown",
   "metadata": {},
   "source": [
    "### Visualize N2V predictions"
   ]
  },
  {
   "cell_type": "code",
   "execution_count": null,
   "metadata": {},
   "outputs": [],
   "source": [
    "_, ax = plt.subplots(2, 2, figsize=(20, 30))\n",
    "ax[0][0].imshow(train_data[..., 0])\n",
    "ax[0][0].set_title(\"Input channel 1\")\n",
    "ax[0][1].imshow(predicition[0].squeeze()[0])\n",
    "ax[0][1].set_title(\"Denoised channel 1\")\n",
    "ax[1][0].imshow(train_data[..., 1])\n",
    "ax[1][0].set_title(\"Input channel 2\")\n",
    "ax[1][1].imshow(predicition[0].squeeze()[1])\n",
    "ax[1][1].set_title(\"Denoised channel 2\")\n",
    "plt.show()"
   ]
  },
  {
   "cell_type": "markdown",
   "metadata": {},
   "source": [
    "### Train the noise model and visualize the results\n",
    "\n",
    "Here we train a noise model using the denoised images aquired from the N2V model.\n",
    "\n",
    "We train a separate noise model for each channel.\n"
   ]
  },
  {
   "cell_type": "code",
   "execution_count": null,
   "metadata": {},
   "outputs": [],
   "source": [
    "for channel_idx in range(train_data.shape[-1]):\n",
    "    channel_data = train_data[..., channel_idx]\n",
    "    print(f\"Training noise model for channel {channel_idx}\")\n",
    "    noise_model_config = GaussianMixtureNMConfig(model_type=\"GaussianMixtureNoiseModel\",\n",
    "                                             min_signal=channel_data.min(),\n",
    "                                                max_signal=channel_data.max(),\n",
    ")\n",
    "    noise_model = GaussianMixtureNoiseModel(noise_model_config)\n",
    "    noise_model.fit(signal=channel_data, observation=predicition[0].squeeze()[channel_idx], n_epochs=100) # TODO change n_epochs\n",
    "    noise_model.save(path=\"noise_models\", name=f\"noise_model_pavia_p24_channel_{channel_idx}\")\n",
    "    histogram = create_histogram(bins=100, min_val=channel_data.min(), max_val=channel_data.max(), signal=channel_data, observation=predicition[0].squeeze()[channel_idx])\n",
    "    plot_probability_distribution(noise_model, signalBinIndex=50, histogram=histogram[0], channel=channel_idx)\n",
    "\n",
    "    "
   ]
  },
  {
   "cell_type": "code",
   "execution_count": null,
   "metadata": {},
   "outputs": [],
   "source": []
  }
 ],
 "metadata": {
  "kernelspec": {
   "display_name": "Python 3",
   "language": "python",
   "name": "python3"
  },
  "language_info": {
   "codemirror_mode": {
    "name": "ipython",
    "version": 3
   },
   "file_extension": ".py",
   "mimetype": "text/x-python",
   "name": "python",
   "nbconvert_exporter": "python",
   "pygments_lexer": "ipython3",
   "version": "3.9.20"
  }
 },
 "nbformat": 4,
 "nbformat_minor": 2
}
