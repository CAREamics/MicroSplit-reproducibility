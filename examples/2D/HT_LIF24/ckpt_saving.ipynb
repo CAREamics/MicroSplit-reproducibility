{
 "cells": [
  {
   "cell_type": "code",
   "execution_count": 5,
   "metadata": {},
   "outputs": [],
   "source": [
    "## 2 ms\n",
    "nmodelrootdir = '/group/jug/ashesh/training/'\n",
    "ckpts_dict = {\n",
    "'5ms':{\n",
    "'0_1': '/group/jug/ashesh/training/disentangle/2406/D25-M3-S0-L8/10/BaselineVAECL_best.ckpt'\n",
    "}\n",
    "}"
   ]
  },
  {
   "cell_type": "code",
   "execution_count": 6,
   "metadata": {},
   "outputs": [
    {
     "name": "stdout",
     "output_type": "stream",
     "text": [
      "Copying /group/jug/ashesh/training/disentangle/2406/D25-M3-S0-L8/10/BaselineVAECL_best.ckpt to /group/jug/public_html/msplit/ht_lif24/ckpts/5ms/best_0_1.ckpt\n"
     ]
    }
   ],
   "source": [
    "import os\n",
    "outputdir = '/group/jug/public_html/msplit/ht_lif24/ckpts/'\n",
    "for exposure_duration in ckpts_dict.keys():\n",
    "    for key in ckpts_dict[exposure_duration]:\n",
    "        ckpt_fpath = ckpts_dict[exposure_duration][key]\n",
    "        dst_path = os.path.join(outputdir, exposure_duration, f'best_{key}.ckpt')\n",
    "        print(f'Copying {ckpt_fpath} to {dst_path}')\n",
    "        os.system(f'cp {ckpt_fpath} {dst_path}')"
   ]
  },
  {
   "cell_type": "code",
   "execution_count": null,
   "metadata": {},
   "outputs": [],
   "source": []
  }
 ],
 "metadata": {
  "kernelspec": {
   "display_name": "microSplit",
   "language": "python",
   "name": "python3"
  },
  "language_info": {
   "codemirror_mode": {
    "name": "ipython",
    "version": 3
   },
   "file_extension": ".py",
   "mimetype": "text/x-python",
   "name": "python",
   "nbconvert_exporter": "python",
   "pygments_lexer": "ipython3",
   "version": "3.9.21"
  }
 },
 "nbformat": 4,
 "nbformat_minor": 2
}
