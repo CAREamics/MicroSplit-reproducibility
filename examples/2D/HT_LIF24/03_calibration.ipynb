{
 "cells": [
  {
   "cell_type": "markdown",
   "metadata": {},
   "source": [
    "### Calibration code for the dataset Bla bla\n",
    "\n",
    "The calibration process applies to network setups that produce both predictions and associated uncertainty estimates. Networks are considered calibrated when the predicted uncertainties align with the actual prediction errors (e.g., RMSE). To achieve this, a transformation is applied to map uncertainty predictions to measured errors. An ideal calibration would result in a plot tightly fitting \n",
    "𝑦=𝑥, where \n",
    "𝑦 represents the error and \n",
    "𝑥 the estimated uncertainty.\n",
    "\n",
    "Following the methodology from [1,20], we sampl 𝑘=50\n",
    "predictions per input image and compute pixel-wise standard deviations 𝜎1\n",
    "and 𝜎2 for the two predicted image channels 𝑐1 and 𝑐2. These serve as the uncertainty predictions. To calibrate, the uncertainties are scaled using two learnable scalars, 1 and 𝛼2. Importantly, this calibration does not alter the original predictions but learns a mapping to accurately predict the measured errors."
   ]
  },
  {
   "cell_type": "markdown",
   "metadata": {},
   "source": [
    "### Important ! \n",
    "\n",
    "This step requires saved model predictions! Run evaluation code first."
   ]
  },
  {
   "cell_type": "markdown",
   "metadata": {},
   "source": [
    "#### General imports"
   ]
  },
  {
   "cell_type": "code",
   "execution_count": 1,
   "metadata": {},
   "outputs": [],
   "source": [
    "import os\n",
    "import pooch\n",
    "import tifffile\n",
    "import numpy as np\n",
    "import matplotlib.pyplot as plt\n",
    "\n",
    "from microsplit_reproducibility.configs.factory import (\n",
    "    create_algorithm_config,\n",
    "    get_likelihood_config,\n",
    "    get_loss_config,\n",
    "    get_model_config,\n",
    "    get_optimizer_config,\n",
    "    get_training_config,\n",
    "    get_lr_scheduler_config,\n",
    ")\n",
    "from microsplit_reproducibility.datasets import create_train_val_datasets\n",
    "\n",
    "from careamics.lvae_training.calibration import (\n",
    "    Calibration,\n",
    "    plot_calibration,\n",
    ")\n",
    "from careamics.lvae_training.dataset import DataSplitType"
   ]
  },
  {
   "cell_type": "markdown",
   "metadata": {},
   "source": [
    "#### Experiments specific imports"
   ]
  },
  {
   "cell_type": "code",
   "execution_count": 2,
   "metadata": {},
   "outputs": [],
   "source": [
    "from microsplit_reproducibility.configs.parameters.HT_LIF24 import get_microsplit_parameters\n",
    "from microsplit_reproducibility.configs.data.HT_LIF24 import get_data_configs\n",
    "from microsplit_reproducibility.datasets.HT_LIF24 import get_train_val_data"
   ]
  },
  {
   "cell_type": "markdown",
   "metadata": {},
   "source": [
    "### Define sub-experiment "
   ]
  },
  {
   "cell_type": "code",
   "execution_count": 3,
   "metadata": {},
   "outputs": [],
   "source": [
    "index = \"20ms\""
   ]
  },
  {
   "cell_type": "markdown",
   "metadata": {},
   "source": [
    "### Download the data"
   ]
  },
  {
   "cell_type": "code",
   "execution_count": 4,
   "metadata": {},
   "outputs": [],
   "source": [
    "DATA = pooch.create(\n",
    "    path=\"./data\",\n",
    "    base_url=\"https://download.fht.org/jug/microsplit/ht_lif24/data\",\n",
    "    registry={\"ht_lif24.zip\": None},\n",
    ")\n",
    "\n",
    "NOISE_MODELS = pooch.create(\n",
    "    path=\"./noise_models\",\n",
    "    base_url=f\"https://download.fht.org/jug/microsplit/ht_lif24/{index}\",\n",
    "    registry={\n",
    "        \"nm_ht_lif24_ch1_20ms.npz\": None,\n",
    "        \"nm_ht_lif24_ch2_20ms.npz\": None,\n",
    "        \"nm_ht_lif24_ch3_20ms.npz\": None,\n",
    "    },\n",
    ")\n",
    "\n",
    "MODEL_CHECKPOINTS = pooch.create(\n",
    "    path=\"./checkpoints\",\n",
    "    base_url=f\"https://download.fht.org/jug/microsplit/ht_lif24/{index}\",\n",
    "    registry={\"best.ckpt\": None, \"last.ckpt\": None},\n",
    ")"
   ]
  },
  {
   "cell_type": "code",
   "execution_count": 5,
   "metadata": {},
   "outputs": [],
   "source": [
    "DATA.fetch(\"ht_lif24.zip\", processor=pooch.Unzip())\n",
    "\n",
    "for f in MODEL_CHECKPOINTS.registry:\n",
    "    MODEL_CHECKPOINTS.fetch(f\"{f}\")"
   ]
  },
  {
   "cell_type": "markdown",
   "metadata": {},
   "source": [
    "### Get configs"
   ]
  },
  {
   "cell_type": "code",
   "execution_count": 6,
   "metadata": {},
   "outputs": [],
   "source": [
    "train_data_config, val_data_config, test_data_configs = get_data_configs(\n",
    "    dset_type=index\n",
    ")\n",
    "experiment_params = get_microsplit_parameters(\n",
    "    dset_type=index, nm_path=NOISE_MODELS.path\n",
    ")"
   ]
  },
  {
   "cell_type": "markdown",
   "metadata": {},
   "source": [
    "### Create dataset"
   ]
  },
  {
   "cell_type": "code",
   "execution_count": 7,
   "metadata": {},
   "outputs": [
    {
     "name": "stdout",
     "output_type": "stream",
     "text": [
      "Loading from data/ht_lif24.zip.unzip/ht_lif24/Set1/uSplit_20ms.nd2\n",
      "ND2 dimensions: {'P': 20, 'C': 19, 'Y': 1608, 'X': 1608}; RGB: False; datatype: uint16; legacy: False\n",
      "Loading from data/ht_lif24.zip.unzip/ht_lif24/Set2/uSplit_20ms.nd2\n",
      "ND2 dimensions: {'P': 11, 'C': 19, 'Y': 1608, 'X': 1608}; RGB: False; datatype: uint16; legacy: False\n",
      "Loading from data/ht_lif24.zip.unzip/ht_lif24/Set3/uSplit_20ms.nd2\n",
      "ND2 dimensions: {'P': 20, 'C': 19, 'Y': 1608, 'X': 1608}; RGB: False; datatype: uint16; legacy: False\n",
      "Loading from data/ht_lif24.zip.unzip/ht_lif24/Set4/uSplit_20ms.nd2\n",
      "ND2 dimensions: {'P': 20, 'C': 19, 'Y': 1608, 'X': 1608}; RGB: False; datatype: uint16; legacy: False\n",
      "Loading from data/ht_lif24.zip.unzip/ht_lif24/Set5/uSplit_20ms.nd2\n",
      "ND2 dimensions: {'P': 21, 'C': 19, 'Y': 1608, 'X': 1608}; RGB: False; datatype: uint16; legacy: False\n",
      "Loading from data/ht_lif24.zip.unzip/ht_lif24/Set6/uSplit_20ms.nd2\n",
      "ND2 dimensions: {'P': 20, 'C': 19, 'Y': 1608, 'X': 1608}; RGB: False; datatype: uint16; legacy: False\n",
      "\n",
      "Padding is not used with this alignement style\n",
      "Loading from data/ht_lif24.zip.unzip/ht_lif24/Set1/uSplit_20ms.nd2\n",
      "ND2 dimensions: {'P': 20, 'C': 19, 'Y': 1608, 'X': 1608}; RGB: False; datatype: uint16; legacy: False\n",
      "Loading from data/ht_lif24.zip.unzip/ht_lif24/Set2/uSplit_20ms.nd2\n",
      "ND2 dimensions: {'P': 11, 'C': 19, 'Y': 1608, 'X': 1608}; RGB: False; datatype: uint16; legacy: False\n",
      "Loading from data/ht_lif24.zip.unzip/ht_lif24/Set3/uSplit_20ms.nd2\n",
      "ND2 dimensions: {'P': 20, 'C': 19, 'Y': 1608, 'X': 1608}; RGB: False; datatype: uint16; legacy: False\n",
      "Loading from data/ht_lif24.zip.unzip/ht_lif24/Set4/uSplit_20ms.nd2\n",
      "ND2 dimensions: {'P': 20, 'C': 19, 'Y': 1608, 'X': 1608}; RGB: False; datatype: uint16; legacy: False\n",
      "Loading from data/ht_lif24.zip.unzip/ht_lif24/Set5/uSplit_20ms.nd2\n",
      "ND2 dimensions: {'P': 21, 'C': 19, 'Y': 1608, 'X': 1608}; RGB: False; datatype: uint16; legacy: False\n",
      "Loading from data/ht_lif24.zip.unzip/ht_lif24/Set6/uSplit_20ms.nd2\n",
      "ND2 dimensions: {'P': 20, 'C': 19, 'Y': 1608, 'X': 1608}; RGB: False; datatype: uint16; legacy: False\n",
      "\n",
      "Padding is not used with this alignement style\n",
      "Loading from data/ht_lif24.zip.unzip/ht_lif24/Set1/uSplit_20ms.nd2\n",
      "ND2 dimensions: {'P': 20, 'C': 19, 'Y': 1608, 'X': 1608}; RGB: False; datatype: uint16; legacy: False\n",
      "Loading from data/ht_lif24.zip.unzip/ht_lif24/Set2/uSplit_20ms.nd2\n",
      "ND2 dimensions: {'P': 11, 'C': 19, 'Y': 1608, 'X': 1608}; RGB: False; datatype: uint16; legacy: False\n",
      "Loading from data/ht_lif24.zip.unzip/ht_lif24/Set3/uSplit_20ms.nd2\n",
      "ND2 dimensions: {'P': 20, 'C': 19, 'Y': 1608, 'X': 1608}; RGB: False; datatype: uint16; legacy: False\n",
      "Loading from data/ht_lif24.zip.unzip/ht_lif24/Set4/uSplit_20ms.nd2\n",
      "ND2 dimensions: {'P': 20, 'C': 19, 'Y': 1608, 'X': 1608}; RGB: False; datatype: uint16; legacy: False\n",
      "Loading from data/ht_lif24.zip.unzip/ht_lif24/Set5/uSplit_20ms.nd2\n",
      "ND2 dimensions: {'P': 21, 'C': 19, 'Y': 1608, 'X': 1608}; RGB: False; datatype: uint16; legacy: False\n",
      "Loading from data/ht_lif24.zip.unzip/ht_lif24/Set6/uSplit_20ms.nd2\n",
      "ND2 dimensions: {'P': 20, 'C': 19, 'Y': 1608, 'X': 1608}; RGB: False; datatype: uint16; legacy: False\n",
      "\n",
      "Padding is not used with this alignement style\n"
     ]
    }
   ],
   "source": [
    "train_dset, val_dset, test_dset, data_stats = create_train_val_datasets(\n",
    "    datapath=DATA.path / \"ht_lif24.zip.unzip/ht_lif24\",\n",
    "    train_config=train_data_config,\n",
    "    val_config=val_data_config,\n",
    "    test_config=val_data_config,\n",
    "    load_data_func=get_train_val_data,\n",
    ")\n"
   ]
  },
  {
   "cell_type": "markdown",
   "metadata": {},
   "source": [
    "### Get experiment configs"
   ]
  },
  {
   "cell_type": "code",
   "execution_count": 8,
   "metadata": {},
   "outputs": [
    {
     "name": "stderr",
     "output_type": "stream",
     "text": [
      "/home/ashesh.ashesh/mambaforge/envs/microSplit/lib/python3.9/site-packages/careamics/utils/serializers.py:62: UserWarning: To copy construct from a tensor, it is recommended to use sourceTensor.clone().detach() or sourceTensor.clone().detach().requires_grad_(True), rather than torch.tensor(sourceTensor).\n",
      "  return torch.tensor(lst)\n"
     ]
    }
   ],
   "source": [
    "experiment_params[\"data_stats\"] = data_stats  # TODO rethink\n",
    "\n",
    "loss_config = get_loss_config(**experiment_params)\n",
    "model_config = get_model_config(**experiment_params)\n",
    "gaussian_lik_config, noise_model_config, nm_lik_config = get_likelihood_config(\n",
    "    **experiment_params\n",
    ")\n",
    "training_config = get_training_config(**experiment_params)\n",
    "lr_scheduler_config = get_lr_scheduler_config(**experiment_params)\n",
    "optimizer_config = get_optimizer_config(**experiment_params)\n",
    "\n",
    "experiment_config = create_algorithm_config(\n",
    "    algorithm=experiment_params[\"algorithm\"],\n",
    "    loss_config=loss_config,\n",
    "    model_config=model_config,\n",
    "    gaussian_lik_config=gaussian_lik_config,\n",
    "    nm_config=noise_model_config,\n",
    "    nm_lik_config=nm_lik_config,\n",
    "    lr_scheduler_config=lr_scheduler_config,\n",
    "    optimizer_config=optimizer_config,\n",
    ")"
   ]
  },
  {
   "cell_type": "markdown",
   "metadata": {},
   "source": [
    "### Load predictions"
   ]
  },
  {
   "cell_type": "code",
   "execution_count": 9,
   "metadata": {},
   "outputs": [],
   "source": [
    "predictions = {}\n",
    "stds = {}\n",
    "for filename in os.listdir(\"predictions\"):\n",
    "    file_id = filename.split(\"_\", maxsplit=1)[1].split(\".\")[0]\n",
    "    if filename.startswith(\"std\"):\n",
    "        stds[file_id] = tifffile.imread(f\"predictions/{filename}\")\n",
    "    else:\n",
    "        predictions[file_id] = tifffile.imread(f\"predictions/{filename}\")"
   ]
  },
  {
   "cell_type": "markdown",
   "metadata": {},
   "source": [
    "#### Target preparation"
   ]
  },
  {
   "cell_type": "code",
   "execution_count": 10,
   "metadata": {},
   "outputs": [],
   "source": [
    "data_stats = experiment_params[\"data_stats\"]\n",
    "\n",
    "# Index of file to visualize\n",
    "file_idx = 1\n",
    "\n",
    "# Filename by index\n",
    "filename_idx = str(test_dset._fpath).split(\"/\")[-1].split(\".\")[0]\n",
    "target = test_dset._data[..., :-1]\n",
    "prediction = predictions[filename_idx][..., :-1]\n",
    "std = stds[filename_idx][..., :-1]\n",
    "\n",
    "sep_mean = np.transpose(data_stats[0].numpy(), axes=(0, 2, 3, 1))\n",
    "sep_std = np.transpose(data_stats[1].numpy(), axes=(0, 2, 3, 1))\n",
    "\n",
    "target_normalized = (target - sep_mean)/ sep_std"
   ]
  },
  {
   "cell_type": "code",
   "execution_count": 11,
   "metadata": {},
   "outputs": [
    {
     "name": "stderr",
     "output_type": "stream",
     "text": [
      "/home/ashesh.ashesh/mambaforge/envs/microSplit/lib/python3.9/site-packages/numpy/core/fromnumeric.py:3504: RuntimeWarning: Mean of empty slice.\n",
      "  return _methods._mean(a, axis=axis, dtype=dtype,\n",
      "/home/ashesh.ashesh/mambaforge/envs/microSplit/lib/python3.9/site-packages/numpy/core/_methods.py:129: RuntimeWarning: invalid value encountered in divide\n",
      "  ret = ret.dtype.type(ret / rcount)\n"
     ]
    }
   ],
   "source": [
    "# NOTE: Recall the `pred_std` here is the pixel-wise std of the mmse_count many predictions\n",
    "calib = Calibration(\n",
    "    num_bins=30,\n",
    ")\n",
    "native_stats = calib.compute_stats(\n",
    "    pred=prediction,\n",
    "    pred_std=std,\n",
    "    target=target_normalized\n",
    ")\n",
    "count = np.array(native_stats[0]['bin_count'])\n",
    "count = count / count.sum()\n"
   ]
  },
  {
   "cell_type": "markdown",
   "metadata": {},
   "source": [
    "### Compute calibration factors\n"
   ]
  },
  {
   "cell_type": "code",
   "execution_count": 12,
   "metadata": {},
   "outputs": [
    {
     "data": {
      "image/png": "[encoded data removed]",
      "text/plain": [
       "<Figure size 500x500 with 1 Axes>"
      ]
     },
     "metadata": {},
     "output_type": "display_data"
    }
   ],
   "source": [
    "_,ax = plt.subplots(figsize=(5,5))\n",
    "plt.title(\"RMV vs. RMSE plot - Not Calibrated\")\n",
    "plot_calibration(ax, native_stats)"
   ]
  },
  {
   "cell_type": "markdown",
   "metadata": {},
   "source": [
    "### Perform calibration\n"
   ]
  },
  {
   "cell_type": "code",
   "execution_count": 16,
   "metadata": {},
   "outputs": [
    {
     "name": "stdout",
     "output_type": "stream",
     "text": [
      "Calibration factors: {0: {'scalar': 0.9961809608003007, 'offset': 0.010711434527646002}, 1: {'scalar': 0.9980425907298415, 'offset': 0.004782033525940088}, 2: {'scalar': 0.9988490494167586, 'offset': 0.005105936633412966}}\n"
     ]
    }
   ],
   "source": [
    "# Compute calibration factors for the channels\n",
    "calib_factors, factors_array = calib.get_calibrated_factor_for_stdev()\n",
    "print(f\"Calibration factors: {calib_factors}\")"
   ]
  },
  {
   "cell_type": "markdown",
   "metadata": {},
   "source": [
    "### Apply calibration factors"
   ]
  },
  {
   "cell_type": "code",
   "execution_count": 17,
   "metadata": {},
   "outputs": [],
   "source": [
    "# Use pre-computed calibration factor\n",
    "calib = Calibration(num_bins=30)\n",
    "\n",
    "stats = calib.compute_stats(\n",
    "    prediction,\n",
    "    std * factors_array[\"scalar\"] + factors_array[\"offset\"],\n",
    "    target_normalized\n",
    ")"
   ]
  },
  {
   "cell_type": "code",
   "execution_count": 18,
   "metadata": {},
   "outputs": [
    {
     "data": {
      "image/png": "[encoded data removed]",
      "text/plain": [
       "<Figure size 500x500 with 1 Axes>"
      ]
     },
     "metadata": {},
     "output_type": "display_data"
    }
   ],
   "source": [
    "_,ax = plt.subplots(figsize=(5,5))\n",
    "plt.title(\"RMV vs. RMSE plot - Calibrated\")\n",
    "plot_calibration(ax, stats)"
   ]
  }
 ],
 "metadata": {
  "kernelspec": {
   "display_name": "Python 3",
   "language": "python",
   "name": "python3"
  },
  "language_info": {
   "codemirror_mode": {
    "name": "ipython",
    "version": 3
   },
   "file_extension": ".py",
   "mimetype": "text/x-python",
   "name": "python",
   "nbconvert_exporter": "python",
   "pygments_lexer": "ipython3",
   "version": "3.9.21"
  }
 },
 "nbformat": 4,
 "nbformat_minor": 2
}
