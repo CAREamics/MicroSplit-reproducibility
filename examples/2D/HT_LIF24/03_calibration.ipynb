{
 "cells": [
  {
   "cell_type": "markdown",
   "metadata": {},
   "source": [
    "### Evaluation code for the dataset Bla bla\n",
    "\n",
    "Short description of metrics and panels"
   ]
  },
  {
   "cell_type": "markdown",
   "metadata": {},
   "source": [
    "#### General imports"
   ]
  },
  {
   "cell_type": "code",
   "execution_count": 6,
   "metadata": {},
   "outputs": [],
   "source": [
    "import os\n",
    "import pooch\n",
    "import tifffile\n",
    "import numpy as np\n",
    "import matplotlib as mpl\n",
    "import matplotlib.patches as patches\n",
    "import matplotlib.pyplot as plt\n",
    "\n",
    "from microsplit_reproducibility.configs.factory import (\n",
    "    get_algorithm_config,\n",
    "    get_likelihood_config,\n",
    "    get_loss_config,\n",
    "    get_model_config,\n",
    "    get_optimizer_config,\n",
    "    get_training_config,\n",
    "    get_lr_scheduler_config,\n",
    ")\n",
    "from microsplit_reproducibility.utils.io import load_checkpoint\n",
    "from microsplit_reproducibility.datasets import create_train_val_datasets\n",
    "\n",
    "from careamics.lightning import VAEModule\n",
    "from careamics.lvae_training.eval_utils import get_predictions, get_samples, plot_error\n",
    "from careamics.utils.metrics import avg_range_invariant_psnr\n",
    "\n",
    "from careamics.lvae_training.calibration import (\n",
    "    Calibration,\n",
    "    get_calibrated_factor_for_stdev,\n",
    "    plot_calibration,\n",
    ")"
   ]
  },
  {
   "cell_type": "markdown",
   "metadata": {},
   "source": [
    "#### Experiments specific imports"
   ]
  },
  {
   "cell_type": "code",
   "execution_count": null,
   "metadata": {},
   "outputs": [],
   "source": [
    "from microsplit_reproducibility.configs.parameters.pavia_p24 import (\n",
    "    get_denoisplit_parameters,\n",
    ")\n",
    "from microsplit_reproducibility.configs.data.pavia_p24 import get_data_configs\n",
    "from microsplit_reproducibility.datasets.pavia_p24 import get_train_val_data"
   ]
  },
  {
   "cell_type": "markdown",
   "metadata": {},
   "source": [
    "### Get configs"
   ]
  },
  {
   "cell_type": "code",
   "execution_count": null,
   "metadata": {},
   "outputs": [],
   "source": [
    "train_data_config, val_data_config, test_data_configs = get_data_configs()\n",
    "experiment_params = get_denoisplit_parameters()"
   ]
  },
  {
   "cell_type": "markdown",
   "metadata": {},
   "source": [
    "### Create dataset"
   ]
  },
  {
   "cell_type": "code",
   "execution_count": null,
   "metadata": {},
   "outputs": [],
   "source": [
    "tmp_local_path = \"/localscratch/data/pavia3_sequential_cropped\""
   ]
  },
  {
   "cell_type": "code",
   "execution_count": null,
   "metadata": {},
   "outputs": [],
   "source": [
    "DATA = pooch.create(\n",
    "    # path=pooch.os_cache(\"microsplit_reproducibility_pavia_p24\"), # TODO should be downloaded and stored locally\n",
    "    path=tmp_local_path,\n",
    "    base_url=\"\",\n",
    "    registry={\"\": \"\"},\n",
    ")"
   ]
  },
  {
   "cell_type": "code",
   "execution_count": null,
   "metadata": {},
   "outputs": [],
   "source": [
    "train_dset, val_dset, test_dset, data_stats = create_train_val_datasets(\n",
    "    datapath=tmp_local_path,\n",
    "    train_config=train_data_config,\n",
    "    val_config=val_data_config,\n",
    "    test_config=val_data_config,\n",
    "    load_data_func=get_train_val_data,\n",
    ")\n",
    "\n",
    "# TODO problem is, creating a dataloader requires a config, that's ugly af"
   ]
  },
  {
   "cell_type": "markdown",
   "metadata": {},
   "source": [
    "### Get experiment configs"
   ]
  },
  {
   "cell_type": "code",
   "execution_count": null,
   "metadata": {},
   "outputs": [],
   "source": [
    "experiment_params[\"data_stats\"] = data_stats  # TODO rethink\n",
    "\n",
    "loss_config = get_loss_config(**experiment_params)\n",
    "model_config = get_model_config(**experiment_params)\n",
    "gaussian_lik_config, noise_model_config, nm_lik_config = get_likelihood_config(\n",
    "    **experiment_params\n",
    ")\n",
    "training_config = get_training_config(**experiment_params)\n",
    "lr_scheduler_config = get_lr_scheduler_config(**experiment_params)\n",
    "optimizer_config = get_optimizer_config(**experiment_params)\n",
    "\n",
    "# TODO rename to create\n",
    "experiment_config = get_algorithm_config(\n",
    "    algorithm=experiment_params[\"algorithm\"],\n",
    "    loss_config=loss_config,\n",
    "    model_config=model_config,\n",
    "    gaussian_lik_config=gaussian_lik_config,\n",
    "    nm_config=noise_model_config,\n",
    "    nm_lik_config=nm_lik_config,\n",
    "    lr_scheduler_config=lr_scheduler_config,\n",
    "    optimizer_config=optimizer_config,\n",
    ")"
   ]
  },
  {
   "cell_type": "markdown",
   "metadata": {},
   "source": [
    "### Load predictions"
   ]
  },
  {
   "cell_type": "code",
   "execution_count": null,
   "metadata": {},
   "outputs": [],
   "source": [
    "# NOTE: Recall the `pred_std` here is the pixel-wise std of the mmse_count many predictions\n",
    "calib = Calibration(\n",
    "    num_bins=30,\n",
    "    mode='pixelwise'\n",
    ")\n",
    "native_stats = calib.compute_stats(\n",
    "    pred=predictions,\n",
    "    pred_logvar=pred_std,\n",
    "    target=target_normalized\n",
    ")\n",
    "count = np.array(native_stats[0]['bin_count'])\n",
    "count = count / count.sum()\n",
    "# print(count.cumsum()[:-1])\n",
    "plt.plot(native_stats[0]['rmv'][1:-1], native_stats[0]['rmse'][1:-1], 'o')\n",
    "plt.title(\"RMV vs. RMSE plot - Not Calibrated\")\n",
    "plt.xlabel('RMV'), plt.ylabel('RMSE')"
   ]
  },
  {
   "cell_type": "code",
   "execution_count": null,
   "metadata": {},
   "outputs": [],
   "source": [
    "inp, _ = val_dset[0]\n",
    "out_dir = get_eval_output_dir(ckpt_dir, inp.shape[1], mmse_count=mmse_count)\n",
    "fname = \"calibration_factor.npy\"\n",
    "factor_fpath = os.path.join(out_dir, fname)\n",
    "\n",
    "# Compute calibration factors\n",
    "if eval_datasplit_type == DataSplitType.Val:\n",
    "    # Compute calibration factors for the channels\n",
    "    calib_factors = []\n",
    "    for i in range(pred.shape[-1]):\n",
    "        calib_factors.append(\n",
    "            get_calibrated_factor_for_stdev(\n",
    "                pred=pred[..., i],\n",
    "                pred_logvar=np.log(pred_std[..., i] ** 2),\n",
    "                target=tar_normalized[..., i],\n",
    "                batch_size=8,\n",
    "                lr=0.1\n",
    "            )\n",
    "        )\n",
    "    print(f\"Calibration factors: {[calib_factor for calib_factor in calib_factors]}\")\n",
    "    calib_factor = np.array(calib_factors).reshape(1, 1, 1, 2)\n",
    "    np.save(factor_fpath, calib_factor)\n",
    "    print(f'Saved calibration factor fitted on validation set to {factor_fpath}')\n",
    "\n",
    "# Use pre-computed calibration factor\n",
    "elif eval_datasplit_type == DataSplitType.Test:\n",
    "    print('Loading the calibration factor from the file', factor_fpath)\n",
    "    calib_factor = np.load(factor_fpath)\n",
    "\n",
    "# Given the calibration factor, plot RMV vs. RMSE\n",
    "calib = Calibration(num_bins=30, mode='pixelwise')\n",
    "pred_logvar = 2* np.log(pred_std * calib_factor)\n",
    "stats = calib.compute_stats(\n",
    "    pred,\n",
    "    pred_logvar,\n",
    "    tar_normalized\n",
    ")\n",
    "_,ax = plt.subplots(figsize=(5,5))\n",
    "plt.title(\"RMV vs. RMSE plot - Calibrated\")\n",
    "plot_calibration(ax, stats)\n",
    "\n",
    "if eval_datasplit_type == DataSplitType.Test:\n",
    "    stats_fpath = os.path.join(out_dir, \"calibration_stats.pkl.npy\")\n",
    "    np.save(stats_fpath, stats)\n",
    "    print('Saved stats of Test set to ', stats_fpath)"
   ]
  },
  {
   "cell_type": "code",
   "execution_count": null,
   "metadata": {},
   "outputs": [],
   "source": [
    "try:\n",
    "        calib_factors = [\n",
    "            np.load(os.path.join('/path/to/calibration/factors/dir/', fpath), allow_pickle=True)\n",
    "            for fpath in [\n",
    "                'calibration_stats_1.pkl.npy',\n",
    "                'calibration_stats_2.pkl.npy',\n",
    "                'calibration_stats_3.pkl.npy',\n",
    "            ]\n",
    "        ]\n",
    "        labels = ['w=0.5', 'w=0.9', 'w=1']\n",
    "    except FileNotFoundError:\n",
    "        print('Calibration factors not found. Skipping the plot.')\n",
    "        calib_factors = []\n",
    "\n",
    "    if len(calib_factors) > 0:\n",
    "        _,ax = plt.subplots(figsize=(5,2.5))\n",
    "        for i, calibration_stats in enumerate(calib_factors):\n",
    "            first_idx = get_first_index(calibration_stats[()][0]['bin_count'], 0.0001)\n",
    "            last_idx = get_last_index(calibration_stats[()][0]['bin_count'], 0.9999)\n",
    "            ax.plot(\n",
    "                calibration_stats[()][0]['rmv'][first_idx:-last_idx],\n",
    "                calibration_stats[()][0]['rmse'][first_idx:-last_idx],\n",
    "                '-+',\n",
    "                label=labels[i]\n",
    "            )\n",
    "\n",
    "        ax.yaxis.grid(color='gray', linestyle='dashed')\n",
    "        ax.xaxis.grid(color='gray', linestyle='dashed')\n",
    "        ax.plot(np.arange(0,1.5, 0.01), np.arange(0,1.5, 0.01), 'k--')\n",
    "        ax.set_facecolor('xkcd:light grey')\n",
    "        plt.legend(loc='lower right')\n",
    "        # plt.xlim(0,3)\n",
    "        # plt.ylim(0,1.25)\n",
    "        plt.xlabel('RMV')\n",
    "        plt.ylabel('RMSE')\n",
    "        ax.set_axisbelow(True)\n",
    "\n",
    "\n",
    "        plotsdir = get_plots_output_dir(ckpt_dir, 0, mmse_count=0)\n",
    "        model_id = ckpt_dir.strip('/').split('/')[-1]\n",
    "        fname = f'calibration_plot_{model_id}.png'\n",
    "        fpath = os.path.join(plotsdir, fname)\n",
    "        # plt.savefig(fpath, dpi=200, bbox_inches='tight')\n",
    "        print(f'Saved to {fpath}')"
   ]
  },
  {
   "cell_type": "markdown",
   "metadata": {},
   "source": [
    "### Visualize results\n"
   ]
  },
  {
   "cell_type": "markdown",
   "metadata": {},
   "source": [
    "### Panel 1 ..."
   ]
  }
 ],
 "metadata": {
  "kernelspec": {
   "display_name": "Python 3",
   "language": "python",
   "name": "python3"
  },
  "language_info": {
   "codemirror_mode": {
    "name": "ipython",
    "version": 3
   },
   "file_extension": ".py",
   "mimetype": "text/x-python",
   "name": "python",
   "nbconvert_exporter": "python",
   "pygments_lexer": "ipython3",
   "version": "3.9.20"
  }
 },
 "nbformat": 4,
 "nbformat_minor": 2
}
