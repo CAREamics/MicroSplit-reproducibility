{
 "cells": [
  {
   "cell_type": "markdown",
   "metadata": {},
   "source": [
    "### Calibration code for the dataset Bla bla\n",
    "\n",
    "The calibration process applies to network setups that produce both predictions and associated uncertainty estimates. Networks are considered calibrated when the predicted uncertainties align with the actual prediction errors (e.g., RMSE). To achieve this, a transformation is applied to map uncertainty predictions to measured errors. An ideal calibration would result in a plot tightly fitting \n",
    "𝑦=𝑥, where \n",
    "𝑦 represents the error and \n",
    "𝑥 the estimated uncertainty.\n",
    "\n",
    "Following the methodology from [1,20], we sampl 𝑘=50\n",
    "predictions per input image and compute pixel-wise standard deviations 𝜎1\n",
    "and 𝜎2 for the two predicted image channels 𝑐1 and 𝑐2. These serve as the uncertainty predictions. To calibrate, the uncertainties are scaled using two learnable scalars, 1 and 𝛼2. Importantly, this calibration does not alter the original predictions but learns a mapping to accurately predict the measured errors."
   ]
  },
  {
   "cell_type": "markdown",
   "metadata": {},
   "source": [
    "#### General imports"
   ]
  },
  {
   "cell_type": "code",
   "execution_count": 20,
   "metadata": {},
   "outputs": [],
   "source": [
    "import os\n",
    "import pooch\n",
    "import tifffile\n",
    "import numpy as np\n",
    "import matplotlib.pyplot as plt\n",
    "\n",
    "from microsplit_reproducibility.configs.factory import (\n",
    "    create_algorithm_config,\n",
    "    get_likelihood_config,\n",
    "    get_loss_config,\n",
    "    get_model_config,\n",
    "    get_optimizer_config,\n",
    "    get_training_config,\n",
    "    get_lr_scheduler_config,\n",
    ")\n",
    "from microsplit_reproducibility.datasets import create_train_val_datasets\n",
    "\n",
    "from careamics.lvae_training.calibration import (\n",
    "    Calibration,\n",
    "    plot_calibration,\n",
    ")\n",
    "from careamics.lvae_training.dataset import DataSplitType"
   ]
  },
  {
   "cell_type": "markdown",
   "metadata": {},
   "source": [
    "### Define sub-experiment "
   ]
  },
  {
   "cell_type": "code",
   "execution_count": 21,
   "metadata": {},
   "outputs": [],
   "source": [
    "from microsplit_reproducibility.configs.parameters.HT_LIF24 import get_microsplit_parameters\n",
    "from microsplit_reproducibility.configs.data.HT_LIF24 import get_data_configs\n",
    "from microsplit_reproducibility.datasets.HT_LIF24 import get_train_val_data\n",
    "\n",
    "class Channels:\n",
    "    Nucleus = 0\n",
    "    MicroTubules = 1\n",
    "    NuclearMembrane = 2\n",
    "    Centromere = 3\n",
    "\n",
    "class ExposureDuration:\n",
    "    VeryLow = \"2ms\"\n",
    "    Low = \"3ms\"\n",
    "    Medium = \"5ms\"\n",
    "    High = \"20ms\"\n",
    "    VeryHigh = \"500ms\"\n",
    "\n",
    "allowed_exposure_durations = [ExposureDuration.VeryLow, ExposureDuration.Low, ExposureDuration.Medium, ExposureDuration.High, ExposureDuration.VeryHigh]"
   ]
  },
  {
   "cell_type": "markdown",
   "metadata": {},
   "source": [
    "## Select the channels and exposure duration\n",
    "<div class=\"alert alert-block alert-info\">\n",
    "<b> Task: </b>Set two entries from the following list for the channels.\n",
    "0 - Nucleus, 1 - Microtubules, 2 - Centromere, 3 - Nuclear Membrane\n",
    "An example would be [0, 1] for Nucleus and Microtubules.\n",
    "</div>"
   ]
  },
  {
   "cell_type": "code",
   "execution_count": 22,
   "metadata": {},
   "outputs": [],
   "source": [
    "TARGET_CHANNEL_IDX_LIST = [Channels.MicroTubules, Channels.Nucleus]"
   ]
  },
  {
   "cell_type": "markdown",
   "metadata": {},
   "source": [
    "<div class=\"alert alert-block alert-info\">\n",
    "<b> Task: </b>Pick one entry from the following list for the exposure duration.\n",
    "VeryLow, Low,Medium,High, VeryHigh\n",
    "</div>"
   ]
  },
  {
   "cell_type": "code",
   "execution_count": 23,
   "metadata": {},
   "outputs": [],
   "source": [
    "EXPOSURE_DURATION = ExposureDuration.Medium\n"
   ]
  },
  {
   "cell_type": "code",
   "execution_count": 24,
   "metadata": {},
   "outputs": [],
   "source": [
    "TARGET_CHANNEL_IDX_LIST = sorted(TARGET_CHANNEL_IDX_LIST)\n",
    "assert EXPOSURE_DURATION in allowed_exposure_durations, f\"Exposure duration {EXPOSURE_DURATION} not in {allowed_exposure_durations}\"\n",
    "assert len(TARGET_CHANNEL_IDX_LIST) == 2, f\"Only 2 target channels are allowed, got {len(TARGET_CHANNEL_IDX_LIST)}\""
   ]
  },
  {
   "cell_type": "code",
   "execution_count": 25,
   "metadata": {},
   "outputs": [],
   "source": [
    "from notebook_utils import get_all_channel_list\n",
    "CHANNEL_IDX_LIST = get_all_channel_list(TARGET_CHANNEL_IDX_LIST)"
   ]
  },
  {
   "cell_type": "markdown",
   "metadata": {},
   "source": [
    "### Download the data"
   ]
  },
  {
   "cell_type": "code",
   "execution_count": 26,
   "metadata": {},
   "outputs": [],
   "source": [
    "DATA = pooch.create(\n",
    "    path=f\"./data/\",\n",
    "    base_url=f\"https://download.fht.org/jug/msplit/ht_lif24/data/\",\n",
    "    registry={f\"ht_lif24_{EXPOSURE_DURATION}.zip\": None},\n",
    ")\n",
    "\n",
    "NOISE_MODELS = pooch.create(\n",
    "    path=f\"./noise_models/{EXPOSURE_DURATION}/\",\n",
    "    base_url=f\"https://download.fht.org/jug/msplit/ht_lif24/noise_models/{EXPOSURE_DURATION}/\",\n",
    "    registry={\n",
    "        f\"noise_model_Ch{CHANNEL_IDX_LIST[0]}.npz\": None,\n",
    "        f\"noise_model_Ch{CHANNEL_IDX_LIST[1]}.npz\": None,\n",
    "    },\n",
    ")\n",
    "\n",
    "MODEL_CHECKPOINTS = pooch.create(\n",
    "    path=f\"./pretrained_checkpoints/{EXPOSURE_DURATION}/\",\n",
    "    base_url=f\"https://download.fht.org/jug/msplit/ht_lif24/ckpts/{EXPOSURE_DURATION}/\",\n",
    "    registry={f\"best_{TARGET_CHANNEL_IDX_LIST[0]}_{TARGET_CHANNEL_IDX_LIST[1]}.ckpt\": None},\n",
    ")\n"
   ]
  },
  {
   "cell_type": "code",
   "execution_count": 27,
   "metadata": {},
   "outputs": [],
   "source": [
    "for fname in NOISE_MODELS.registry:\n",
    "    NOISE_MODELS.fetch(fname)\n",
    "\n",
    "for fname in DATA.registry:\n",
    "    DATA.fetch(fname, processor=pooch.Unzip())\n",
    "\n",
    "pretrained_model_available = False\n",
    "for f in MODEL_CHECKPOINTS.registry:\n",
    "    if MODEL_CHECKPOINTS.is_available(f):\n",
    "        MODEL_CHECKPOINTS.fetch(f\"{f}\")\n",
    "        pretrained_model_available = True\n",
    "\n",
    "assert pretrained_model_available, \"Pretrained model not available. First train the model using the 01_training.ipynb.\""
   ]
  },
  {
   "cell_type": "code",
   "execution_count": 28,
   "metadata": {},
   "outputs": [],
   "source": [
    "from microsplit_reproducibility.configs.parameters.HT_LIF24 import get_microsplit_parameters\n",
    "from microsplit_reproducibility.configs.data.HT_LIF24 import get_data_configs\n",
    "from microsplit_reproducibility.datasets.HT_LIF24 import get_train_val_data"
   ]
  },
  {
   "cell_type": "markdown",
   "metadata": {},
   "source": [
    "### Get configs"
   ]
  },
  {
   "cell_type": "code",
   "execution_count": 29,
   "metadata": {},
   "outputs": [],
   "source": [
    "train_data_config, val_data_config, test_data_config = get_data_configs(\n",
    "    dset_type=EXPOSURE_DURATION, channel_idx_list=CHANNEL_IDX_LIST,\n",
    ")\n",
    "experiment_params = get_microsplit_parameters(\n",
    "    dset_type=EXPOSURE_DURATION, nm_path=NOISE_MODELS.path, channel_idx_list=CHANNEL_IDX_LIST\n",
    ")"
   ]
  },
  {
   "cell_type": "markdown",
   "metadata": {},
   "source": [
    "### Create dataset"
   ]
  },
  {
   "cell_type": "code",
   "execution_count": 30,
   "metadata": {},
   "outputs": [
    {
     "name": "stdout",
     "output_type": "stream",
     "text": [
      "Loading from data/ht_lif24_5ms.zip.unzip/5ms/Set1/uSplit_5ms.nd2\n",
      "ND2 dimensions: {'P': 20, 'C': 19, 'Y': 1608, 'X': 1608}; RGB: False; datatype: uint16; legacy: False\n",
      "Loading from data/ht_lif24_5ms.zip.unzip/5ms/Set2/uSplit_5ms.nd2\n",
      "ND2 dimensions: {'P': 11, 'C': 19, 'Y': 1608, 'X': 1608}; RGB: False; datatype: uint16; legacy: False\n",
      "Loading from data/ht_lif24_5ms.zip.unzip/5ms/Set3/uSplit_5ms.nd2\n",
      "ND2 dimensions: {'P': 20, 'C': 19, 'Y': 1608, 'X': 1608}; RGB: False; datatype: uint16; legacy: False\n",
      "Loading from data/ht_lif24_5ms.zip.unzip/5ms/Set4/uSplit_5ms.nd2\n",
      "ND2 dimensions: {'P': 20, 'C': 19, 'Y': 1608, 'X': 1608}; RGB: False; datatype: uint16; legacy: False\n",
      "Loading from data/ht_lif24_5ms.zip.unzip/5ms/Set5/uSplit_5ms.nd2\n",
      "ND2 dimensions: {'P': 21, 'C': 19, 'Y': 1608, 'X': 1608}; RGB: False; datatype: uint16; legacy: False\n",
      "Loading from data/ht_lif24_5ms.zip.unzip/5ms/Set6/uSplit_5ms.nd2\n",
      "ND2 dimensions: {'P': 20, 'C': 19, 'Y': 1608, 'X': 1608}; RGB: False; datatype: uint16; legacy: False\n",
      "\n",
      "Padding is not used with this alignement style\n",
      "Loading from data/ht_lif24_5ms.zip.unzip/5ms/Set1/uSplit_5ms.nd2\n",
      "ND2 dimensions: {'P': 20, 'C': 19, 'Y': 1608, 'X': 1608}; RGB: False; datatype: uint16; legacy: False\n",
      "Loading from data/ht_lif24_5ms.zip.unzip/5ms/Set2/uSplit_5ms.nd2\n",
      "ND2 dimensions: {'P': 11, 'C': 19, 'Y': 1608, 'X': 1608}; RGB: False; datatype: uint16; legacy: False\n",
      "Loading from data/ht_lif24_5ms.zip.unzip/5ms/Set3/uSplit_5ms.nd2\n",
      "ND2 dimensions: {'P': 20, 'C': 19, 'Y': 1608, 'X': 1608}; RGB: False; datatype: uint16; legacy: False\n",
      "Loading from data/ht_lif24_5ms.zip.unzip/5ms/Set4/uSplit_5ms.nd2\n",
      "ND2 dimensions: {'P': 20, 'C': 19, 'Y': 1608, 'X': 1608}; RGB: False; datatype: uint16; legacy: False\n",
      "Loading from data/ht_lif24_5ms.zip.unzip/5ms/Set5/uSplit_5ms.nd2\n",
      "ND2 dimensions: {'P': 21, 'C': 19, 'Y': 1608, 'X': 1608}; RGB: False; datatype: uint16; legacy: False\n",
      "Loading from data/ht_lif24_5ms.zip.unzip/5ms/Set6/uSplit_5ms.nd2\n",
      "ND2 dimensions: {'P': 20, 'C': 19, 'Y': 1608, 'X': 1608}; RGB: False; datatype: uint16; legacy: False\n",
      "\n",
      "Padding is not used with this alignement style\n",
      "Loading from data/ht_lif24_5ms.zip.unzip/5ms/Set1/uSplit_5ms.nd2\n",
      "ND2 dimensions: {'P': 20, 'C': 19, 'Y': 1608, 'X': 1608}; RGB: False; datatype: uint16; legacy: False\n",
      "Loading from data/ht_lif24_5ms.zip.unzip/5ms/Set2/uSplit_5ms.nd2\n",
      "ND2 dimensions: {'P': 11, 'C': 19, 'Y': 1608, 'X': 1608}; RGB: False; datatype: uint16; legacy: False\n",
      "Loading from data/ht_lif24_5ms.zip.unzip/5ms/Set3/uSplit_5ms.nd2\n",
      "ND2 dimensions: {'P': 20, 'C': 19, 'Y': 1608, 'X': 1608}; RGB: False; datatype: uint16; legacy: False\n",
      "Loading from data/ht_lif24_5ms.zip.unzip/5ms/Set4/uSplit_5ms.nd2\n",
      "ND2 dimensions: {'P': 20, 'C': 19, 'Y': 1608, 'X': 1608}; RGB: False; datatype: uint16; legacy: False\n",
      "Loading from data/ht_lif24_5ms.zip.unzip/5ms/Set5/uSplit_5ms.nd2\n",
      "ND2 dimensions: {'P': 21, 'C': 19, 'Y': 1608, 'X': 1608}; RGB: False; datatype: uint16; legacy: False\n",
      "Loading from data/ht_lif24_5ms.zip.unzip/5ms/Set6/uSplit_5ms.nd2\n",
      "ND2 dimensions: {'P': 20, 'C': 19, 'Y': 1608, 'X': 1608}; RGB: False; datatype: uint16; legacy: False\n",
      "\n",
      "Padding is not used with this alignement style\n"
     ]
    }
   ],
   "source": [
    "train_dset, _, test_dset, data_stats = create_train_val_datasets(\n",
    "    datapath=DATA.path / f\"ht_lif24_{EXPOSURE_DURATION}.zip.unzip/{EXPOSURE_DURATION}\",\n",
    "    train_config=train_data_config,\n",
    "    val_config=val_data_config,\n",
    "    test_config=test_data_config,\n",
    "    load_data_func=get_train_val_data,\n",
    ")"
   ]
  },
  {
   "cell_type": "markdown",
   "metadata": {},
   "source": [
    "### Get experiment configs"
   ]
  },
  {
   "cell_type": "code",
   "execution_count": 31,
   "metadata": {},
   "outputs": [
    {
     "name": "stderr",
     "output_type": "stream",
     "text": [
      "/home/ashesh.ashesh/mambaforge/envs/microSplit/lib/python3.9/site-packages/careamics/utils/serializers.py:62: UserWarning: To copy construct from a tensor, it is recommended to use sourceTensor.clone().detach() or sourceTensor.clone().detach().requires_grad_(True), rather than torch.tensor(sourceTensor).\n",
      "  return torch.tensor(lst)\n"
     ]
    }
   ],
   "source": [
    "experiment_params[\"data_stats\"] = data_stats  # TODO rethink\n",
    "\n",
    "loss_config = get_loss_config(**experiment_params)\n",
    "model_config = get_model_config(**experiment_params)\n",
    "gaussian_lik_config, noise_model_config, nm_lik_config = get_likelihood_config(\n",
    "    **experiment_params\n",
    ")\n",
    "training_config = get_training_config(**experiment_params)\n",
    "lr_scheduler_config = get_lr_scheduler_config(**experiment_params)\n",
    "optimizer_config = get_optimizer_config(**experiment_params)\n",
    "\n",
    "experiment_config = create_algorithm_config(\n",
    "    algorithm=experiment_params[\"algorithm\"],\n",
    "    loss_config=loss_config,\n",
    "    model_config=model_config,\n",
    "    gaussian_lik_config=gaussian_lik_config,\n",
    "    nm_config=noise_model_config,\n",
    "    nm_lik_config=nm_lik_config,\n",
    "    lr_scheduler_config=lr_scheduler_config,\n",
    "    optimizer_config=optimizer_config,\n",
    ")"
   ]
  },
  {
   "cell_type": "markdown",
   "metadata": {},
   "source": [
    "### Load Validation-set predictions for fitting the calibration params"
   ]
  },
  {
   "cell_type": "code",
   "execution_count": 32,
   "metadata": {},
   "outputs": [],
   "source": [
    "pred_dir = f\"predictions/{EXPOSURE_DURATION}\"\n",
    "pred_fname = 'prediction_ht_lif24_Val.tif'\n",
    "std_fname = 'std_ht_lif24_Val.tif'\n",
    "\n",
    "prediction = tifffile.imread(f\"{pred_dir}/{pred_fname}\")\n",
    "std = tifffile.imread(f\"{pred_dir}/{std_fname}\")\n",
    "\n"
   ]
  },
  {
   "cell_type": "markdown",
   "metadata": {},
   "source": [
    "#### Target preparation"
   ]
  },
  {
   "cell_type": "code",
   "execution_count": 33,
   "metadata": {},
   "outputs": [],
   "source": [
    "data_stats = experiment_params[\"data_stats\"]\n",
    "target = test_dset._data[..., :-1]\n",
    "\n",
    "sep_mean = np.transpose(data_stats[0].numpy(), axes=(0, 2, 3, 1))\n",
    "sep_std = np.transpose(data_stats[1].numpy(), axes=(0, 2, 3, 1))\n",
    "\n",
    "target_normalized = (target - sep_mean)/ sep_std"
   ]
  },
  {
   "cell_type": "code",
   "execution_count": 34,
   "metadata": {},
   "outputs": [],
   "source": [
    "# target = target[:1]\n",
    "# target_normalized = target_normalized[:1]"
   ]
  },
  {
   "cell_type": "code",
   "execution_count": 35,
   "metadata": {},
   "outputs": [],
   "source": [
    "calib = Calibration(\n",
    "    num_bins=30,\n",
    ")\n",
    "native_stats = calib.compute_stats(\n",
    "    pred=prediction,\n",
    "    pred_std=std,\n",
    "    target=target_normalized\n",
    ")\n",
    "count = np.array(native_stats[0]['bin_count'])\n",
    "count = count / count.sum()\n"
   ]
  },
  {
   "cell_type": "markdown",
   "metadata": {},
   "source": [
    "### Load Test-set predictions for evaluating the calibration"
   ]
  },
  {
   "cell_type": "code",
   "execution_count": 36,
   "metadata": {},
   "outputs": [],
   "source": [
    "pred_dir = f\"predictions/{EXPOSURE_DURATION}\"\n",
    "pred_fpath = os.path.join(pred_dir,'prediction_ht_lif24_Test.tif')\n",
    "std_fpath = os.path.join(pred_dir,'std_ht_lif24_Test.tif')\n",
    "assert os.path.exists(pred_fpath), f\"Prediction file {pred_fpath} not found. Run the 02_evaluation.ipynb first on Test data.\"\n",
    "assert os.path.exists(std_fpath), f\"Std file {std_fpath} not found. Run the 02_evaluation.ipynb first on Test data.\"\n",
    "prediction = tifffile.imread(pred_fpath)\n",
    "std = tifffile.imread(std_fpath)\n"
   ]
  },
  {
   "cell_type": "markdown",
   "metadata": {},
   "source": [
    "### Compute calibration factors\n"
   ]
  },
  {
   "cell_type": "code",
   "execution_count": 37,
   "metadata": {},
   "outputs": [
    {
     "data": {
      "image/png": "[encoded data removed]",
      "text/plain": [
       "<Figure size 500x500 with 1 Axes>"
      ]
     },
     "metadata": {},
     "output_type": "display_data"
    }
   ],
   "source": [
    "_,ax = plt.subplots(figsize=(5,5))\n",
    "plt.title(\"RMV vs. RMSE plot - Not Calibrated\")\n",
    "plot_calibration(ax, native_stats)"
   ]
  },
  {
   "cell_type": "markdown",
   "metadata": {},
   "source": [
    "### Perform calibration\n"
   ]
  },
  {
   "cell_type": "code",
   "execution_count": 38,
   "metadata": {},
   "outputs": [
    {
     "name": "stdout",
     "output_type": "stream",
     "text": [
      "Calibration factors: {0: {'scalar': 3.089337924319244, 'offset': 1.1989881449427928}, 1: {'scalar': 6.008922431774148, 'offset': 1.1174203903974083}}\n"
     ]
    }
   ],
   "source": [
    "# Compute calibration factors for the channels\n",
    "calib_factors, factors_array = calib.get_calibrated_factor_for_stdev()\n",
    "print(f\"Calibration factors: {calib_factors}\")"
   ]
  },
  {
   "cell_type": "markdown",
   "metadata": {},
   "source": [
    "### Apply calibration factors"
   ]
  },
  {
   "cell_type": "code",
   "execution_count": 39,
   "metadata": {},
   "outputs": [],
   "source": [
    "# Use pre-computed calibration factor\n",
    "calib = Calibration(num_bins=30)\n",
    "\n",
    "stats = calib.compute_stats(\n",
    "    prediction,\n",
    "    std * factors_array[\"scalar\"] + factors_array[\"offset\"],\n",
    "    target_normalized\n",
    ")"
   ]
  },
  {
   "cell_type": "code",
   "execution_count": 40,
   "metadata": {},
   "outputs": [
    {
     "data": {
      "image/png": "[encoded data removed]",
      "text/plain": [
       "<Figure size 500x500 with 1 Axes>"
      ]
     },
     "metadata": {},
     "output_type": "display_data"
    }
   ],
   "source": [
    "_,ax = plt.subplots(figsize=(5,5))\n",
    "plt.title(\"RMV vs. RMSE plot - Calibrated\")\n",
    "plot_calibration(ax, stats)"
   ]
  }
 ],
 "metadata": {
  "kernelspec": {
   "display_name": "Python 3",
   "language": "python",
   "name": "python3"
  },
  "language_info": {
   "codemirror_mode": {
    "name": "ipython",
    "version": 3
   },
   "file_extension": ".py",
   "mimetype": "text/x-python",
   "name": "python",
   "nbconvert_exporter": "python",
   "pygments_lexer": "ipython3",
   "version": "3.9.21"
  }
 },
 "nbformat": 4,
 "nbformat_minor": 2
}
