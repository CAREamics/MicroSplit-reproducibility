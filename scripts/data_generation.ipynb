{
 "cells": [
  {
   "cell_type": "code",
   "execution_count": 3,
   "metadata": {},
   "outputs": [
    {
     "name": "stderr",
     "output_type": "stream",
     "text": [
      "100%|██████████| 6/6 [00:00<00:00, 318.04it/s]\n"
     ]
    },
    {
     "name": "stdout",
     "output_type": "stream",
     "text": [
      "cp -r /group/jug/public_html/microsplit/ht_lif24/data/Set1/uSplit_2ms.nd2 /group/jug/public_html/msplit/ht_lif24/data/2ms/Set1/uSplit_2ms.nd2\n",
      "/group/jug/public_html/msplit/ht_lif24/data/2ms/Set1/uSplit_2ms.nd2 already exists\n",
      "cp -r /group/jug/public_html/microsplit/ht_lif24/data/Set2/uSplit_2ms.nd2 /group/jug/public_html/msplit/ht_lif24/data/2ms/Set2/uSplit_2ms.nd2\n",
      "/group/jug/public_html/msplit/ht_lif24/data/2ms/Set2/uSplit_2ms.nd2 already exists\n",
      "cp -r /group/jug/public_html/microsplit/ht_lif24/data/Set3/uSplit_2ms.nd2 /group/jug/public_html/msplit/ht_lif24/data/2ms/Set3/uSplit_2ms.nd2\n",
      "/group/jug/public_html/msplit/ht_lif24/data/2ms/Set3/uSplit_2ms.nd2 already exists\n",
      "cp -r /group/jug/public_html/microsplit/ht_lif24/data/Set4/uSplit_2ms.nd2 /group/jug/public_html/msplit/ht_lif24/data/2ms/Set4/uSplit_2ms.nd2\n",
      "/group/jug/public_html/msplit/ht_lif24/data/2ms/Set4/uSplit_2ms.nd2 already exists\n",
      "cp -r /group/jug/public_html/microsplit/ht_lif24/data/Set5/uSplit_2ms.nd2 /group/jug/public_html/msplit/ht_lif24/data/2ms/Set5/uSplit_2ms.nd2\n",
      "/group/jug/public_html/msplit/ht_lif24/data/2ms/Set5/uSplit_2ms.nd2 already exists\n",
      "cp -r /group/jug/public_html/microsplit/ht_lif24/data/Set6/uSplit_2ms.nd2 /group/jug/public_html/msplit/ht_lif24/data/2ms/Set6/uSplit_2ms.nd2\n",
      "/group/jug/public_html/msplit/ht_lif24/data/2ms/Set6/uSplit_2ms.nd2 already exists\n"
     ]
    },
    {
     "name": "stderr",
     "output_type": "stream",
     "text": [
      "100%|██████████| 6/6 [00:00<00:00, 393.59it/s]\n"
     ]
    },
    {
     "name": "stdout",
     "output_type": "stream",
     "text": [
      "cp -r /group/jug/public_html/microsplit/ht_lif24/data/Set1/uSplit_3ms.nd2 /group/jug/public_html/msplit/ht_lif24/data/3ms/Set1/uSplit_3ms.nd2\n",
      "/group/jug/public_html/msplit/ht_lif24/data/3ms/Set1/uSplit_3ms.nd2 already exists\n",
      "cp -r /group/jug/public_html/microsplit/ht_lif24/data/Set2/uSplit_3ms.nd2 /group/jug/public_html/msplit/ht_lif24/data/3ms/Set2/uSplit_3ms.nd2\n",
      "/group/jug/public_html/msplit/ht_lif24/data/3ms/Set2/uSplit_3ms.nd2 already exists\n",
      "cp -r /group/jug/public_html/microsplit/ht_lif24/data/Set3/uSplit_3ms.nd2 /group/jug/public_html/msplit/ht_lif24/data/3ms/Set3/uSplit_3ms.nd2\n",
      "/group/jug/public_html/msplit/ht_lif24/data/3ms/Set3/uSplit_3ms.nd2 already exists\n",
      "cp -r /group/jug/public_html/microsplit/ht_lif24/data/Set4/uSplit_3ms.nd2 /group/jug/public_html/msplit/ht_lif24/data/3ms/Set4/uSplit_3ms.nd2\n",
      "/group/jug/public_html/msplit/ht_lif24/data/3ms/Set4/uSplit_3ms.nd2 already exists\n",
      "cp -r /group/jug/public_html/microsplit/ht_lif24/data/Set5/uSplit_3ms.nd2 /group/jug/public_html/msplit/ht_lif24/data/3ms/Set5/uSplit_3ms.nd2\n",
      "/group/jug/public_html/msplit/ht_lif24/data/3ms/Set5/uSplit_3ms.nd2 already exists\n",
      "cp -r /group/jug/public_html/microsplit/ht_lif24/data/Set6/uSplit_3ms.nd2 /group/jug/public_html/msplit/ht_lif24/data/3ms/Set6/uSplit_3ms.nd2\n",
      "/group/jug/public_html/msplit/ht_lif24/data/3ms/Set6/uSplit_3ms.nd2 already exists\n"
     ]
    },
    {
     "name": "stderr",
     "output_type": "stream",
     "text": [
      "100%|██████████| 6/6 [00:00<00:00, 387.31it/s]\n"
     ]
    },
    {
     "name": "stdout",
     "output_type": "stream",
     "text": [
      "cp -r /group/jug/public_html/microsplit/ht_lif24/data/Set1/uSplit_5ms.nd2 /group/jug/public_html/msplit/ht_lif24/data/5ms/Set1/uSplit_5ms.nd2\n",
      "/group/jug/public_html/msplit/ht_lif24/data/5ms/Set1/uSplit_5ms.nd2 already exists\n",
      "cp -r /group/jug/public_html/microsplit/ht_lif24/data/Set2/uSplit_5ms.nd2 /group/jug/public_html/msplit/ht_lif24/data/5ms/Set2/uSplit_5ms.nd2\n",
      "/group/jug/public_html/msplit/ht_lif24/data/5ms/Set2/uSplit_5ms.nd2 already exists\n",
      "cp -r /group/jug/public_html/microsplit/ht_lif24/data/Set3/uSplit_5ms.nd2 /group/jug/public_html/msplit/ht_lif24/data/5ms/Set3/uSplit_5ms.nd2\n",
      "/group/jug/public_html/msplit/ht_lif24/data/5ms/Set3/uSplit_5ms.nd2 already exists\n",
      "cp -r /group/jug/public_html/microsplit/ht_lif24/data/Set4/uSplit_5ms.nd2 /group/jug/public_html/msplit/ht_lif24/data/5ms/Set4/uSplit_5ms.nd2\n",
      "/group/jug/public_html/msplit/ht_lif24/data/5ms/Set4/uSplit_5ms.nd2 already exists\n",
      "cp -r /group/jug/public_html/microsplit/ht_lif24/data/Set5/uSplit_5ms.nd2 /group/jug/public_html/msplit/ht_lif24/data/5ms/Set5/uSplit_5ms.nd2\n",
      "/group/jug/public_html/msplit/ht_lif24/data/5ms/Set5/uSplit_5ms.nd2 already exists\n",
      "cp -r /group/jug/public_html/microsplit/ht_lif24/data/Set6/uSplit_5ms.nd2 /group/jug/public_html/msplit/ht_lif24/data/5ms/Set6/uSplit_5ms.nd2\n",
      "/group/jug/public_html/msplit/ht_lif24/data/5ms/Set6/uSplit_5ms.nd2 already exists\n"
     ]
    },
    {
     "name": "stderr",
     "output_type": "stream",
     "text": [
      "100%|██████████| 6/6 [00:00<00:00, 361.87it/s]\n"
     ]
    },
    {
     "name": "stdout",
     "output_type": "stream",
     "text": [
      "cp -r /group/jug/public_html/microsplit/ht_lif24/data/Set1/uSplit_20ms.nd2 /group/jug/public_html/msplit/ht_lif24/data/20ms/Set1/uSplit_20ms.nd2\n",
      "/group/jug/public_html/msplit/ht_lif24/data/20ms/Set1/uSplit_20ms.nd2 already exists\n",
      "cp -r /group/jug/public_html/microsplit/ht_lif24/data/Set2/uSplit_20ms.nd2 /group/jug/public_html/msplit/ht_lif24/data/20ms/Set2/uSplit_20ms.nd2\n",
      "/group/jug/public_html/msplit/ht_lif24/data/20ms/Set2/uSplit_20ms.nd2 already exists\n",
      "cp -r /group/jug/public_html/microsplit/ht_lif24/data/Set3/uSplit_20ms.nd2 /group/jug/public_html/msplit/ht_lif24/data/20ms/Set3/uSplit_20ms.nd2\n",
      "/group/jug/public_html/msplit/ht_lif24/data/20ms/Set3/uSplit_20ms.nd2 already exists\n",
      "cp -r /group/jug/public_html/microsplit/ht_lif24/data/Set4/uSplit_20ms.nd2 /group/jug/public_html/msplit/ht_lif24/data/20ms/Set4/uSplit_20ms.nd2\n",
      "/group/jug/public_html/msplit/ht_lif24/data/20ms/Set4/uSplit_20ms.nd2 already exists\n",
      "cp -r /group/jug/public_html/microsplit/ht_lif24/data/Set5/uSplit_20ms.nd2 /group/jug/public_html/msplit/ht_lif24/data/20ms/Set5/uSplit_20ms.nd2\n",
      "/group/jug/public_html/msplit/ht_lif24/data/20ms/Set5/uSplit_20ms.nd2 already exists\n",
      "cp -r /group/jug/public_html/microsplit/ht_lif24/data/Set6/uSplit_20ms.nd2 /group/jug/public_html/msplit/ht_lif24/data/20ms/Set6/uSplit_20ms.nd2\n",
      "/group/jug/public_html/msplit/ht_lif24/data/20ms/Set6/uSplit_20ms.nd2 already exists\n"
     ]
    },
    {
     "name": "stderr",
     "output_type": "stream",
     "text": [
      "100%|██████████| 6/6 [00:00<00:00, 368.99it/s]"
     ]
    },
    {
     "name": "stdout",
     "output_type": "stream",
     "text": [
      "cp -r /group/jug/public_html/microsplit/ht_lif24/data/Set1/uSplit_500ms.nd2 /group/jug/public_html/msplit/ht_lif24/data/500ms/Set1/uSplit_500ms.nd2\n",
      "/group/jug/public_html/msplit/ht_lif24/data/500ms/Set1/uSplit_500ms.nd2 already exists\n",
      "cp -r /group/jug/public_html/microsplit/ht_lif24/data/Set2/uSplit_500ms.nd2 /group/jug/public_html/msplit/ht_lif24/data/500ms/Set2/uSplit_500ms.nd2\n",
      "/group/jug/public_html/msplit/ht_lif24/data/500ms/Set2/uSplit_500ms.nd2 already exists\n",
      "cp -r /group/jug/public_html/microsplit/ht_lif24/data/Set3/uSplit_500ms.nd2 /group/jug/public_html/msplit/ht_lif24/data/500ms/Set3/uSplit_500ms.nd2\n",
      "/group/jug/public_html/msplit/ht_lif24/data/500ms/Set3/uSplit_500ms.nd2 already exists\n",
      "cp -r /group/jug/public_html/microsplit/ht_lif24/data/Set4/uSplit_500ms.nd2 /group/jug/public_html/msplit/ht_lif24/data/500ms/Set4/uSplit_500ms.nd2\n",
      "/group/jug/public_html/msplit/ht_lif24/data/500ms/Set4/uSplit_500ms.nd2 already exists\n",
      "cp -r /group/jug/public_html/microsplit/ht_lif24/data/Set5/uSplit_500ms.nd2 /group/jug/public_html/msplit/ht_lif24/data/500ms/Set5/uSplit_500ms.nd2\n",
      "/group/jug/public_html/msplit/ht_lif24/data/500ms/Set5/uSplit_500ms.nd2 already exists\n",
      "cp -r /group/jug/public_html/microsplit/ht_lif24/data/Set6/uSplit_500ms.nd2 /group/jug/public_html/msplit/ht_lif24/data/500ms/Set6/uSplit_500ms.nd2\n",
      "/group/jug/public_html/msplit/ht_lif24/data/500ms/Set6/uSplit_500ms.nd2 already exists\n"
     ]
    },
    {
     "name": "stderr",
     "output_type": "stream",
     "text": [
      "\n"
     ]
    }
   ],
   "source": [
    "import os\n",
    "from tqdm import tqdm\n",
    "class Channels:\n",
    "    Nucleus = 0\n",
    "    MicroTubules = 1\n",
    "    NuclearMembrane = 2\n",
    "    Centromere = 3\n",
    "\n",
    "class ExposureDuration:\n",
    "    VeryLow = \"2ms\"\n",
    "    Low = \"3ms\"\n",
    "    Medium = \"5ms\"\n",
    "    High = \"20ms\"\n",
    "    VeryHigh = \"500ms\"\n",
    "\n",
    "allowed_exposure_durations = [ExposureDuration.VeryLow, ExposureDuration.Low, ExposureDuration.Medium, ExposureDuration.High, ExposureDuration.VeryHigh]\n",
    "    \n",
    "src_dir_fmt = '/group/jug/public_html/microsplit/ht_lif24/data/Set{set_idx}/uSplit_{exp_duration}.nd2'\n",
    "dst_dir_fmt = '/group/jug/public_html/msplit/ht_lif24/data/{exp_duration}/Set{set_idx}/uSplit_{exp_duration}.nd2'\n",
    "for exp_duration in allowed_exposure_durations:\n",
    "    for set_idx in tqdm(range(1, 7)):\n",
    "        src_path = src_dir_fmt.format(exp_duration=exp_duration, set_idx=set_idx)\n",
    "        dst_path = dst_dir_fmt.format(exp_duration=exp_duration, set_idx=set_idx)\n",
    "        os.makedirs(os.path.dirname(dst_path), exist_ok=True)\n",
    "        print(f'cp -r {src_path} {dst_path}')\n",
    "        if os.path.exists(dst_path):\n",
    "            print(f'{dst_path} already exists')\n",
    "        else:\n",
    "            os.system(f'cp -r {src_path} {dst_path}')"
   ]
  },
  {
   "cell_type": "code",
   "execution_count": null,
   "metadata": {},
   "outputs": [],
   "source": []
  }
 ],
 "metadata": {
  "kernelspec": {
   "display_name": "microSplit",
   "language": "python",
   "name": "python3"
  },
  "language_info": {
   "codemirror_mode": {
    "name": "ipython",
    "version": 3
   },
   "file_extension": ".py",
   "mimetype": "text/x-python",
   "name": "python",
   "nbconvert_exporter": "python",
   "pygments_lexer": "ipython3",
   "version": "3.9.21"
  }
 },
 "nbformat": 4,
 "nbformat_minor": 2
}
